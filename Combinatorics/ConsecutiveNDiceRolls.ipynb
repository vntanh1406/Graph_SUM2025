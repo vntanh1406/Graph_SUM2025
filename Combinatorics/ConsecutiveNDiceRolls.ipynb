{
  "nbformat": 4,
  "nbformat_minor": 0,
  "metadata": {
    "colab": {
      "provenance": []
    },
    "kernelspec": {
      "name": "python3",
      "display_name": "Python 3"
    },
    "language_info": {
      "name": "python"
    }
  },
  "cells": [
    {
      "cell_type": "code",
      "execution_count": 10,
      "metadata": {
        "id": "4p7lfKdysWdW"
      },
      "outputs": [],
      "source": [
        "import math\n",
        "from itertools import product\n",
        "from random import random, randint"
      ]
    },
    {
      "cell_type": "markdown",
      "source": [
        "# Calculate the Probability"
      ],
      "metadata": {
        "id": "uYUhmHX5s6pd"
      }
    },
    {
      "cell_type": "code",
      "source": [
        "def permutation(n, k):\n",
        "  if k > n or k < 0:\n",
        "    return 0\n",
        "  return math.factorial(n) // math.factorial(n - k)\n",
        "\n",
        "def probability(n, a):\n",
        "  # A: all dice show the same number of dots\n",
        "  prob_A = 6 / (6**n)\n",
        "\n",
        "  # B: all dice show different numbers of dots\n",
        "  if n < 2 or n > 6:\n",
        "      prob_B = 0\n",
        "  else:\n",
        "      prob_B = permutation(6, n) / (6**n)\n",
        "\n",
        "  # C: all dice have the same parity\n",
        "  prob_C = (2 * (3**n)) / (6**n)\n",
        "\n",
        "  # D: one face is a divisor/multiple of the other faces\n",
        "  prob_D = 0\n",
        "  if n > 1:\n",
        "    total_outcomes = 6**n\n",
        "    favorable_outcomes = 0\n",
        "    all_outcomes = list(product(range(1, 7), repeat=n))\n",
        "    for rolls in all_outcomes:\n",
        "      for i in range(n):\n",
        "        rest = rolls[:i] + rolls[i+1:]\n",
        "        if all(rolls[i] % x == 0 or x % rolls[i] == 0 for x in rest):\n",
        "          favorable_outcomes += 1\n",
        "          break\n",
        "    prob_D = favorable_outcomes / total_outcomes\n",
        "\n",
        "  # E: sum of dice equals a\n",
        "  prob_E = 0\n",
        "  if a >= n and a <= 6*n:\n",
        "    total_outcomes = 6**n\n",
        "    favorable_outcomes = 0\n",
        "    all_outcomes = list(product(range(1, 7), repeat=n))\n",
        "    for rolls in all_outcomes:\n",
        "      if sum(rolls) == a:\n",
        "        favorable_outcomes += 1\n",
        "    prob_E = favorable_outcomes / total_outcomes\n",
        "\n",
        "  return prob_A, prob_B, prob_C, prob_D, prob_E"
      ],
      "metadata": {
        "id": "xc-rKYgKseDp"
      },
      "execution_count": 33,
      "outputs": []
    },
    {
      "cell_type": "markdown",
      "source": [
        "# Check the Probability"
      ],
      "metadata": {
        "id": "4LTD9aDds9Jr"
      }
    },
    {
      "cell_type": "code",
      "source": [
        "def simulate_dice_rolls_all_outcomes(n, a):\n",
        "  all_outcomes = list(product(range(1, 7), repeat=n))  # All combinations of rolling n dice\n",
        "\n",
        "  results = {'A': 0, 'B': 0, 'C': 0, 'D': 0, 'E': 0}\n",
        "\n",
        "  for rolls in all_outcomes:\n",
        "    # A: all dice show the same number of dots\n",
        "    if len(set(rolls)) == 1:\n",
        "      results['A'] += 1\n",
        "\n",
        "    # B: all dice show different numbers of dots\n",
        "    if len(set(rolls)) == n and n <= 6:\n",
        "      results['B'] += 1\n",
        "\n",
        "    # C: all dice have the same parity (all even or all odd)\n",
        "    if all(x%2 == rolls[0] % 2 for x in rolls):\n",
        "      results['C'] += 1\n",
        "\n",
        "    # D: one face is a divisor/multiple of the other faces\n",
        "    for i in range(n):\n",
        "      rest = rolls[:i] + rolls[i+1:]\n",
        "      if all(rolls[i] % x == 0 or x % rolls[i] == 0 for x in rest):\n",
        "        results['D'] += 1\n",
        "        break\n",
        "\n",
        "    # E: sum of dice equals a\n",
        "    if sum(rolls) == a:\n",
        "        results['E'] += 1\n",
        "\n",
        "  total_outcomes = len(all_outcomes)\n",
        "  prob_A = results['A'] / total_outcomes\n",
        "  prob_B = results['B'] / total_outcomes\n",
        "  prob_C = results['C'] / total_outcomes\n",
        "  prob_D = results['D'] / total_outcomes\n",
        "  prob_E = results['E'] / total_outcomes\n",
        "\n",
        "  return prob_A, prob_B, prob_C, prob_D, prob_E"
      ],
      "metadata": {
        "id": "B0u3xyGPs42u"
      },
      "execution_count": 36,
      "outputs": []
    },
    {
      "cell_type": "code",
      "source": [
        "n = 5\n",
        "a = 27\n",
        "\n",
        "# Use the formulars\n",
        "prob_A, prob_B, prob_C, prob_D, prob_E = probability(n, a)\n",
        "\n",
        "# Check\n",
        "prob_A_sim, prob_B_sim, prob_C_sim, prob_D_sim, prob_E_sim = simulate_dice_rolls_all_outcomes(n, a)\n",
        "\n",
        "print(f\"Calculated probabilities for n={n}:\")\n",
        "print(f\"P(A) = {prob_A:.4f}, P(B) = {prob_B:.4f}, P(C) = {prob_C:.4f}, P(D) = {prob_D:.4f}, P(E) = {prob_E:.4f}\")\n",
        "print(f\"\\nSimulated probabilities for n={n}:\")\n",
        "print(f\"P(A) = {prob_A_sim:.4f}, P(B) = {prob_B_sim:.4f}, P(C) = {prob_C_sim:.4f}, P(D) = {prob_D_sim:.4f}, P(E) = {prob_E_sim:.4f}\")"
      ],
      "metadata": {
        "colab": {
          "base_uri": "https://localhost:8080/"
        },
        "id": "fg6pI3NctLtO",
        "outputId": "88b8bebe-caf7-4ec3-be81-4f869ef7e787"
      },
      "execution_count": 37,
      "outputs": [
        {
          "output_type": "stream",
          "name": "stdout",
          "text": [
            "Calculated probabilities for n=5:\n",
            "P(A) = 0.0008, P(B) = 0.0926, P(C) = 0.0625, P(D) = 0.6489, P(E) = 0.0045\n",
            "\n",
            "Simulated probabilities for n=5:\n",
            "P(A) = 0.0008, P(B) = 0.0926, P(C) = 0.0625, P(D) = 0.6489, P(E) = 0.0045\n"
          ]
        }
      ]
    }
  ]
}