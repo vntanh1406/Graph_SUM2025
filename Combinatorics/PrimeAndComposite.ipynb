{
  "nbformat": 4,
  "nbformat_minor": 0,
  "metadata": {
    "colab": {
      "provenance": []
    },
    "kernelspec": {
      "name": "python3",
      "display_name": "Python 3"
    },
    "language_info": {
      "name": "python"
    }
  },
  "cells": [
    {
      "cell_type": "markdown",
      "source": [
        "# Calculate the probability"
      ],
      "metadata": {
        "id": "9IDntzB9TOii"
      }
    },
    {
      "cell_type": "code",
      "execution_count": 1,
      "metadata": {
        "id": "SPo0lWghPJAI"
      },
      "outputs": [],
      "source": [
        "import math\n",
        "from sympy import isprime"
      ]
    },
    {
      "cell_type": "code",
      "source": [
        "def C(n, r):\n",
        "  if r<0 or r>n:\n",
        "    return 0\n",
        "  return math.comb(n, r)\n",
        "\n",
        "def probability_even_odd(n, m, k=None):\n",
        "  even = n//2\n",
        "  odd = n-even\n",
        "  total = C(n, m)\n",
        "\n",
        "  result = {\n",
        "      \"all_even\": C(even, m) / total,\n",
        "      \"all_odd\": C(odd, m) / total,\n",
        "      \"at_least_1_even\": 1 - C(odd, m) / total,\n",
        "      \"at_least_1_odd\": 1 - C(even, m) / total\n",
        "  }\n",
        "\n",
        "  if k is not None:\n",
        "    result.update({\n",
        "      f\"exactly_{k}_even\": C(even, k) * C(odd, m-k) / total,\n",
        "      f\"exactly_{k}_odd\": C(odd, k) * C(even, m-k) / total,\n",
        "      f\"at_least_{k}_even\": sum(C(even, i) * C(odd, m-i) for i in range(k, m+1)) / total,\n",
        "      f\"at_least_{k}_odd\": sum(C(odd, i) * C(even, m-i) for i in range(k, m+1)) / total\n",
        "    })\n",
        "\n",
        "  return result"
      ],
      "metadata": {
        "id": "ikpWW7L-PQaI"
      },
      "execution_count": 3,
      "outputs": []
    },
    {
      "cell_type": "code",
      "source": [
        "def count_primes(n):\n",
        "  return sum(isprime(i) for i in range(n+1))\n",
        "\n",
        "def probability_prime_composite(n, m, k=None):\n",
        "  prime = count_primes(n)\n",
        "  composite = n - 1 - prime\n",
        "  total = C(n, m)\n",
        "\n",
        "  result = {\n",
        "    \"all_prime\": C(prime, m) / total,\n",
        "    \"all_composite\": C(composite, m) / total,\n",
        "    \"at_least_1_prime\": 1 - (C(composite, m) + C(composite, m-1)) / total,\n",
        "    \"at_least_1_composite\": 1 - (C(prime, m) + C(prime, m-1)) / total\n",
        "  }\n",
        "\n",
        "  if k is not None:\n",
        "    result.update({\n",
        "      f\"exactly_{k}_prime\": C(prime, k) * C(n-prime, m-k) / total,\n",
        "      f\"exactly_{k}_composite\": C(composite, k) * C(n-composite, m-k) / total,\n",
        "      f\"at_least_{k}_prime\": sum(C(prime, i) * C(n-prime, m-i) for i in range(k, m+1)) / total,\n",
        "      f\"at_least_{k}_composite\": sum(C(composite, i) * C(n-composite, m-i) for i in range(k, m+1)) / total\n",
        "    })\n",
        "\n",
        "  return result"
      ],
      "metadata": {
        "id": "x_SFQmaPQyqB"
      },
      "execution_count": 31,
      "outputs": []
    },
    {
      "cell_type": "code",
      "source": [
        "def print_formatted_probabilities(title, result_dict):\n",
        "  print(f\"{title}\")\n",
        "  for key, value in result_dict.items():\n",
        "    label = key.replace('_', ' ').capitalize()\n",
        "    print(f\"  {label}: {value:.4f}\")\n",
        "  print()\n",
        "\n",
        "n = 20\n",
        "m = 5\n",
        "k = 2\n",
        "print(\"a)\")\n",
        "print_formatted_probabilities(\"Odd/Even:\", probability_even_odd(n, m, k))\n",
        "print(\"b)\")\n",
        "print_formatted_probabilities(\"Prime/Composite:\", probability_prime_composite(n, m, k))"
      ],
      "metadata": {
        "colab": {
          "base_uri": "https://localhost:8080/"
        },
        "id": "X8lb926sSGX-",
        "outputId": "85efe76e-48e7-4c5f-8a00-be8f7f6a6151"
      },
      "execution_count": 32,
      "outputs": [
        {
          "output_type": "stream",
          "name": "stdout",
          "text": [
            "a)\n",
            "Odd/Even:\n",
            "  All even: 0.0163\n",
            "  All odd: 0.0163\n",
            "  At least 1 even: 0.9837\n",
            "  At least 1 odd: 0.9837\n",
            "  Exactly 2 even: 0.3483\n",
            "  Exactly 2 odd: 0.3483\n",
            "  At least 2 even: 0.8483\n",
            "  At least 2 odd: 0.8483\n",
            "\n",
            "b)\n",
            "Prime/Composite:\n",
            "  All prime: 0.0036\n",
            "  All composite: 0.0298\n",
            "  At least 1 prime: 0.9489\n",
            "  At least 1 composite: 0.9919\n",
            "  Exactly 2 prime: 0.3973\n",
            "  Exactly 2 composite: 0.2980\n",
            "  At least 2 prime: 0.6935\n",
            "  At least 2 composite: 0.9025\n",
            "\n"
          ]
        }
      ]
    },
    {
      "cell_type": "markdown",
      "source": [
        "# Check the probability"
      ],
      "metadata": {
        "id": "ZLPcRYO0TSZ6"
      }
    },
    {
      "cell_type": "code",
      "source": [
        "from itertools import combinations\n",
        "from sympy import isprime\n",
        "\n",
        "def is_even(x):\n",
        "  return x % 2 == 0\n",
        "\n",
        "def probabilityEO_check_by_enumeration(n, m, k):\n",
        "  An = list(range(1, n+1))\n",
        "  all_combs = list(combinations(An, m))\n",
        "\n",
        "  total = len(all_combs)\n",
        "  stats = {\n",
        "    \"all_even\": 0,\n",
        "    \"all_odd\": 0,\n",
        "    \"at_least_one_even\": 0,\n",
        "    \"at_least_one_odd\": 0,\n",
        "    \"exactly_k_even\": 0,\n",
        "    \"exactly_k_odd\": 0,\n",
        "    \"at_least_k_even\": 0,\n",
        "    \"at_least_k_odd\": 0\n",
        "  }\n",
        "\n",
        "  for comb in all_combs:\n",
        "    num_even = sum(1 for x in comb if is_even(x))\n",
        "    num_odd = m - num_even\n",
        "\n",
        "    if num_even == m:\n",
        "      stats[\"all_even\"] += 1\n",
        "    if num_odd == m:\n",
        "      stats[\"all_odd\"] += 1\n",
        "    if num_even >= 1:\n",
        "      stats[\"at_least_one_even\"] += 1\n",
        "    if num_odd >= 1:\n",
        "      stats[\"at_least_one_odd\"] += 1\n",
        "    if num_even == k:\n",
        "      stats[\"exactly_k_even\"] += 1\n",
        "    if num_odd == k:\n",
        "      stats[\"exactly_k_odd\"] += 1\n",
        "    if num_even >= k:\n",
        "      stats[\"at_least_k_even\"] += 1\n",
        "    if num_odd >= k:\n",
        "      stats[\"at_least_k_odd\"] += 1\n",
        "\n",
        "  probabilities = {key: value / total for key, value in stats.items()}\n",
        "  return probabilities"
      ],
      "metadata": {
        "id": "_XiyRob5SzBt"
      },
      "execution_count": 12,
      "outputs": []
    },
    {
      "cell_type": "code",
      "source": [
        "def is_composite(x):\n",
        "  return x > 1 and not isprime(x)\n",
        "\n",
        "def probabilityPC_check_by_enumeration(n, m, k):\n",
        "  An = list(range(1, n+1))\n",
        "  all_combs = list(combinations(An, m))\n",
        "\n",
        "  total = len(all_combs)\n",
        "  stats = {\n",
        "    \"all_prime\": 0,\n",
        "    \"all_composite\": 0,\n",
        "    \"at_least_one_prime\": 0,\n",
        "    \"at_least_one_composite\": 0,\n",
        "    \"exactly_k_prime\": 0,\n",
        "    \"exactly_k_composite\": 0,\n",
        "    \"at_least_k_prime\": 0,\n",
        "    \"at_least_k_composite\": 0\n",
        "  }\n",
        "\n",
        "  for comb in all_combs:\n",
        "    num_prime = sum(1 for x in comb if isprime(x))\n",
        "    num_composite = sum(1 for x in comb if is_composite(x))\n",
        "\n",
        "    if num_prime == m:\n",
        "      stats[\"all_prime\"] += 1\n",
        "    if num_composite == m:\n",
        "      stats[\"all_composite\"] += 1\n",
        "    if num_prime >= 1:\n",
        "      stats[\"at_least_one_prime\"] += 1\n",
        "    if num_composite >= 1:\n",
        "      stats[\"at_least_one_composite\"] += 1\n",
        "    if num_prime == k:\n",
        "      stats[\"exactly_k_prime\"] += 1\n",
        "    if num_composite == k:\n",
        "      stats[\"exactly_k_composite\"] += 1\n",
        "    if num_prime >= k:\n",
        "      stats[\"at_least_k_prime\"] += 1\n",
        "    if num_composite >= k:\n",
        "      stats[\"at_least_k_composite\"] += 1\n",
        "\n",
        "  probabilities = {key: value / total for key, value in stats.items()}\n",
        "  return probabilities"
      ],
      "metadata": {
        "id": "JbZf43Y4Tq5D"
      },
      "execution_count": 14,
      "outputs": []
    },
    {
      "cell_type": "code",
      "source": [
        "n = 20\n",
        "m = 5\n",
        "k = 2\n",
        "resultEO = probabilityEO_check_by_enumeration(n, m, k)\n",
        "resultPC = probabilityPC_check_by_enumeration(n, m, k)\n",
        "\n",
        "print(\"a)\")\n",
        "for key, value in resultEO.items():\n",
        "  print(f\"{key}: {value:.4f}\")\n",
        "\n",
        "print(\"\\nb)\")\n",
        "for key, value in resultPC.items():\n",
        "  print(f\"{key}: {value:.4f}\")"
      ],
      "metadata": {
        "colab": {
          "base_uri": "https://localhost:8080/"
        },
        "id": "8pNTMEwSS_n1",
        "outputId": "3fee049e-d022-41db-e98b-f41e1bb78d7b"
      },
      "execution_count": 26,
      "outputs": [
        {
          "output_type": "stream",
          "name": "stdout",
          "text": [
            "a)\n",
            "all_even: 0.0163\n",
            "all_odd: 0.0163\n",
            "at_least_one_even: 0.9837\n",
            "at_least_one_odd: 0.9837\n",
            "exactly_k_even: 0.3483\n",
            "exactly_k_odd: 0.3483\n",
            "at_least_k_even: 0.8483\n",
            "at_least_k_odd: 0.8483\n",
            "\n",
            "b)\n",
            "all_prime: 0.0036\n",
            "all_composite: 0.0298\n",
            "at_least_one_prime: 0.9489\n",
            "at_least_one_composite: 0.9919\n",
            "exactly_k_prime: 0.3973\n",
            "exactly_k_composite: 0.2980\n",
            "at_least_k_prime: 0.6935\n",
            "at_least_k_composite: 0.9025\n"
          ]
        }
      ]
    }
  ]
}