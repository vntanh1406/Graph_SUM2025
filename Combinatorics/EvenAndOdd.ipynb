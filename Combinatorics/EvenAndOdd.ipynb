{
  "nbformat": 4,
  "nbformat_minor": 0,
  "metadata": {
    "colab": {
      "provenance": []
    },
    "kernelspec": {
      "name": "python3",
      "display_name": "Python 3"
    },
    "language_info": {
      "name": "python"
    }
  },
  "cells": [
    {
      "cell_type": "markdown",
      "source": [
        "# Calculate the probability"
      ],
      "metadata": {
        "id": "9IDntzB9TOii"
      }
    },
    {
      "cell_type": "code",
      "execution_count": 1,
      "metadata": {
        "id": "SPo0lWghPJAI"
      },
      "outputs": [],
      "source": [
        "import math\n",
        "from sympy import isprime"
      ]
    },
    {
      "cell_type": "code",
      "source": [
        "def C(n, r):\n",
        "  if r<0 or r>n:\n",
        "    return 0\n",
        "  return math.comb(n, r)\n",
        "\n",
        "def probability_even_odd(a, b, n=None, k=None, replace=False):\n",
        "  A = list(range(a, b+1))\n",
        "  N = len(A)\n",
        "  O = math.floor((b-a) / 2) + 1\n",
        "  E = N - O\n",
        "  result = {}\n",
        "\n",
        "  if n==2:\n",
        "    if replace:\n",
        "      total = N**2\n",
        "      result[\"same_even_or_odd\"] = (E**2 + O**2) / total\n",
        "      result[\"diff_even_or_odd\"] = (2 * E * O) / total\n",
        "    else:\n",
        "      total = C(N, 2)\n",
        "      result[\"same_even_or_odd\"] = (C(E, 2) + C(O, 2)) / total\n",
        "      result[\"diff_even_or_odd\"] = (E * O) / total\n",
        "\n",
        "  elif n is not None and n>=2:\n",
        "    if replace:\n",
        "      total = N**n\n",
        "      result[\"all_even\"] = (E**n) / total\n",
        "      result[\"all_odd\"] = (O**n) / total\n",
        "      result[\"same_even_or_odd\"] = (E**n + O**n) / total\n",
        "      if k is not None:\n",
        "        result[f\"exactly_{k}_even\"] = (C(n, k) * E**k  * O**(n-k)) / total\n",
        "        result[f\"exactly_{k}_odd\"] = (C(n, k) * O**k  * E**(n-k)) / total\n",
        "        result[f\"at_least_{k}_even\"] = sum(C(n, i) * E**i * O**(n-i) for i in range(k, n+1)) / total\n",
        "        result[f\"at_least_{k}_odd\"] = sum(C(n, i) * O**i * E**(n-i) for i in range(k, n+1)) / total\n",
        "\n",
        "    else:\n",
        "      total = C(N, n)\n",
        "      result[\"all_even\"] = C(E, n) / total\n",
        "      result[\"all_odd\"] = C(O, n) / total\n",
        "      result[\"same_even_or_odd\"] = (C(E, n) + C(O, n)) / total\n",
        "      if k is not None:\n",
        "        result[f\"exactly_{k}_even\"] = (C(E, k) * C(O, n-k)) / total\n",
        "        result[f\"exactly_{k}_odd\"] = (C(O, k) * C(E, n-k)) / total\n",
        "        result[f\"at_least_{k}_even\"] = sum(C(E, i) * C(O, n-i) for i in range(k, n+1)) / total\n",
        "        result[f\"at_least_{k}_odd\"] = sum(C(O, i) * C(E, n-i) for i in range(k, n+1)) / total\n",
        "\n",
        "  return result"
      ],
      "metadata": {
        "id": "ikpWW7L-PQaI"
      },
      "execution_count": 4,
      "outputs": []
    },
    {
      "cell_type": "code",
      "source": [
        "def print_formatted_probabilities(title, result_dict):\n",
        "  print(f\"{title}\")\n",
        "  for key, value in result_dict.items():\n",
        "    label = key.replace('_', ' ').capitalize()\n",
        "    print(f\"  {label}: {value:.4f}\")\n",
        "  print()\n",
        "\n",
        "a, b = 2, 17\n",
        "n = 6\n",
        "k = 3\n",
        "\n",
        "print(\"a) 2 số, không lặp:\")\n",
        "print_formatted_probabilities(\"Case a (distinct):\", probability_even_odd(a, b, n=2, replace=False))\n",
        "print(\"a) 2 số, có lặp:\")\n",
        "print_formatted_probabilities(\"Case a (with replacement):\", probability_even_odd(a, b, n=2, replace=True))\n",
        "\n",
        "print(\"b) n số, không lặp:\")\n",
        "print_formatted_probabilities(\"Case b (distinct):\", probability_even_odd(a, b, n=n, k=k, replace=False))\n",
        "print(\"b) n số, có lặp:\")\n",
        "print_formatted_probabilities(\"Case b (with replacement):\", probability_even_odd(a, b, n=n, k=k, replace=True))"
      ],
      "metadata": {
        "colab": {
          "base_uri": "https://localhost:8080/"
        },
        "id": "X8lb926sSGX-",
        "outputId": "10cf5f63-efa0-4007-c8b4-a545e4ebd217"
      },
      "execution_count": 10,
      "outputs": [
        {
          "output_type": "stream",
          "name": "stdout",
          "text": [
            "a) 2 số, không lặp:\n",
            "Case a (distinct):\n",
            "  Same even or odd: 0.4667\n",
            "  Diff even or odd: 0.5333\n",
            "\n",
            "a) 2 số, có lặp:\n",
            "Case a (with replacement):\n",
            "  Same even or odd: 0.5000\n",
            "  Diff even or odd: 0.5000\n",
            "\n",
            "b) n số, không lặp:\n",
            "Case b (distinct):\n",
            "  All even: 0.0035\n",
            "  All odd: 0.0035\n",
            "  Same even or odd: 0.0070\n",
            "  Exactly 3 even: 0.3916\n",
            "  Exactly 3 odd: 0.3916\n",
            "  At least 3 even: 0.6958\n",
            "  At least 3 odd: 0.6958\n",
            "\n",
            "b) n số, có lặp:\n",
            "Case b (with replacement):\n",
            "  All even: 0.0156\n",
            "  All odd: 0.0156\n",
            "  Same even or odd: 0.0312\n",
            "  Exactly 3 even: 0.3125\n",
            "  Exactly 3 odd: 0.3125\n",
            "  At least 3 even: 0.6562\n",
            "  At least 3 odd: 0.6562\n",
            "\n"
          ]
        }
      ]
    },
    {
      "cell_type": "markdown",
      "source": [
        "# Check the probability"
      ],
      "metadata": {
        "id": "ZLPcRYO0TSZ6"
      }
    },
    {
      "cell_type": "code",
      "source": [
        "from itertools import product, combinations\n",
        "\n",
        "def is_even(x):\n",
        "  return x%2 == 0\n",
        "\n",
        "def is_odd(x):\n",
        "  return x%2 == 1\n",
        "\n",
        "def probability_check_by_enumeration(a, b, n=None, k=None, replace=False):\n",
        "  A = list(range(a, b+1))\n",
        "  N = len(A)\n",
        "  result = {}\n",
        "\n",
        "  if n == 2:\n",
        "    if replace:\n",
        "      all_combs = list(product(A, repeat=2))\n",
        "    else:\n",
        "      all_combs = list(combinations(A, 2))\n",
        "\n",
        "    total = len(all_combs)\n",
        "    same_even_or_odd = 0\n",
        "    diff_even_or_odd = 0\n",
        "    for c in all_combs:\n",
        "      even_count = sum(1 for x in c if is_even(x))\n",
        "      if even_count == 0 or even_count == len(c):\n",
        "        same_even_or_odd += 1\n",
        "      else:\n",
        "        diff_even_or_odd += 1\n",
        "\n",
        "    result[\"same_even_or_odd\"] = same_even_or_odd / total\n",
        "    result[\"diff_even_or_odd\"] = diff_even_or_odd / total\n",
        "\n",
        "  elif n is not None and n >= 2:\n",
        "    if replace:\n",
        "      all_combs = list(product(A, repeat=n))\n",
        "    else:\n",
        "      all_combs = list(combinations(A, n))\n",
        "\n",
        "    total = len(all_combs)\n",
        "    all_even = 0\n",
        "    all_odd = 0\n",
        "    same_even_or_odd = 0\n",
        "    exactly_k_even = 0\n",
        "    exactly_k_odd = 0\n",
        "    at_least_k_even = 0\n",
        "    at_least_k_odd = 0\n",
        "\n",
        "    for c in all_combs:\n",
        "      even_count = sum(1 for x in c if is_even(x))\n",
        "      odd_count = n - even_count\n",
        "\n",
        "      if even_count == n:\n",
        "        all_even += 1\n",
        "      if odd_count == n:\n",
        "        all_odd += 1\n",
        "      if even_count == n or odd_count == n:\n",
        "        same_even_or_odd += 1\n",
        "\n",
        "      if k is not None:\n",
        "        if even_count == k:\n",
        "          exactly_k_even += 1\n",
        "        if odd_count == k:\n",
        "          exactly_k_odd += 1\n",
        "        if even_count >= k:\n",
        "          at_least_k_even += 1\n",
        "        if odd_count >= k:\n",
        "          at_least_k_odd += 1\n",
        "\n",
        "    result[\"all_even\"] = all_even / total\n",
        "    result[\"all_odd\"] = all_odd / total\n",
        "    result[\"same_even_or_odd\"] = same_even_or_odd / total\n",
        "    if k is not None:\n",
        "      result[f\"exactly_{k}_even\"] = exactly_k_even / total\n",
        "      result[f\"exactly_{k}_odd\"] = exactly_k_odd / total\n",
        "      result[f\"at_least_{k}_even\"] = at_least_k_even / total\n",
        "      result[f\"at_least_{k}_odd\"] = at_least_k_odd / total\n",
        "\n",
        "  return result"
      ],
      "metadata": {
        "id": "_XiyRob5SzBt"
      },
      "execution_count": 7,
      "outputs": []
    },
    {
      "cell_type": "code",
      "source": [
        "print(\"Distinct\")\n",
        "res = probability_check_by_enumeration(a=2, b=17, n=6, k=3, replace=False)\n",
        "for k, v in res.items():\n",
        "    print(f\"{k}: {v:.4f}\")\n",
        "\n",
        "print(\"\\nWith replacement\")\n",
        "res = probability_check_by_enumeration(a=2, b=17, n=6, k=3, replace=True)\n",
        "for k, v in res.items():\n",
        "    print(f\"{k}: {v:.4f}\")"
      ],
      "metadata": {
        "id": "JbZf43Y4Tq5D",
        "colab": {
          "base_uri": "https://localhost:8080/"
        },
        "outputId": "bf7687aa-d8ec-418d-f3e2-41333f25cd73"
      },
      "execution_count": 11,
      "outputs": [
        {
          "output_type": "stream",
          "name": "stdout",
          "text": [
            "Distinct\n",
            "all_even: 0.0035\n",
            "all_odd: 0.0035\n",
            "same_even_or_odd: 0.0070\n",
            "exactly_3_even: 0.3916\n",
            "exactly_3_odd: 0.3916\n",
            "at_least_3_even: 0.6958\n",
            "at_least_3_odd: 0.6958\n",
            "\n",
            "With replacement\n",
            "all_even: 0.0156\n",
            "all_odd: 0.0156\n",
            "same_even_or_odd: 0.0312\n",
            "exactly_3_even: 0.3125\n",
            "exactly_3_odd: 0.3125\n",
            "at_least_3_even: 0.6562\n",
            "at_least_3_odd: 0.6562\n"
          ]
        }
      ]
    }
  ]
}